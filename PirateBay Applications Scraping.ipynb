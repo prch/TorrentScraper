{
 "cells": [
  {
   "cell_type": "code",
   "execution_count": null,
   "metadata": {
    "collapsed": false
   },
   "outputs": [],
   "source": [
    "import urllib2\n",
    "from bs4 import BeautifulSoup\n",
    "import datetime\n",
    "import sys\n",
    "import csv\n",
    "\n",
    "x = 301\n",
    "offset = 0\n",
    "\n",
    "while offset < 34:\n",
    "    url = \"https://thepiratebay.org/browse/\" + str(x) + \"/\" + str(offset) + \"/7\"\n",
    "    print url\n",
    "\n",
    "    req = urllib2.Request(url, headers={'User-Agent' : \"Magic Browser\"}) \n",
    "    con = urllib2.urlopen(req )\n",
    "    #response = urllib2.urlopen(url)\n",
    "    try:\n",
    "        html = con.read()\n",
    "        offset = offset + 1\n",
    "    except Exception:\n",
    "        raise\n",
    "    else:\n",
    "        listtorrents = parse_html(html)\n",
    "        data_row = extract_page(listtorrents)\n",
    "        append_csv(data_row)\n",
    "        #time.sleep(900)\n",
    "        \n",
    "#     finally:\n",
    "#         try:\n",
    "#             response.close()\n",
    "#         except (UnboundLocalError, NameError):\n",
    "#             raise UnboundLocalError\n"
   ]
  },
  {
   "cell_type": "code",
   "execution_count": null,
   "metadata": {
    "collapsed": false
   },
   "outputs": [],
   "source": [
    "data_row = extract_page(listtorrents)"
   ]
  },
  {
   "cell_type": "code",
   "execution_count": null,
   "metadata": {
    "collapsed": true
   },
   "outputs": [],
   "source": [
    "def parse_html(html):\n",
    "    soup = BeautifulSoup(html, 'html.parser')\n",
    "    listtorrents = soup.find(\"table\", {\"id\":\"searchResult\"})\n",
    "    return listtorrents\n",
    "\n",
    "        \n",
    "    \n"
   ]
  },
  {
   "cell_type": "code",
   "execution_count": null,
   "metadata": {
    "collapsed": false
   },
   "outputs": [],
   "source": [
    "def extract_page(listtorents):   \n",
    "    data_row = []\n",
    "    for row in listtorrents.find_all('tr')[1:]:\n",
    "        col = row.find_all('td')\n",
    "        #print col[1].find_all('a')[0]\n",
    "        try:\n",
    "            torrentlink = col[1].find_all('a')[0].get('href').encode('utf-8')\n",
    "            torrenttitle = col[1].find_all('a')[0].text.encode('utf-8')\n",
    "            magnetlink = col[1].find_all('a')[1].get('href').encode('utf-8')\n",
    "            numbercomments = col[1].find_all('img')[1].get('alt').encode('utf-8')            \n",
    "            uploaded = col[1].find('font').text.encode('utf-8')\n",
    "            print \"---test\"\n",
    "            numberseeders = col[2].text\n",
    "            numberleechers = col[3].text\n",
    "            data_row.append([torrenttitle,torrentlink,magnetlink, uploaded, numberseeders,numberleechers])\n",
    "        except:\n",
    "            continue\n",
    "    return data_row"
   ]
  },
  {
   "cell_type": "code",
   "execution_count": null,
   "metadata": {
    "collapsed": false
   },
   "outputs": [],
   "source": [
    "def append_csv(data_row):\n",
    "    with open('piratebay_applications.csv', 'ab') as csvfile_node:\n",
    "        writer = csv.writer(csvfile_node, delimiter=\",\")\n",
    "        for row in data_row:\n",
    "            writer.writerow(row)\n",
    "\n",
    "        \n",
    "        "
   ]
  },
  {
   "cell_type": "code",
   "execution_count": null,
   "metadata": {
    "collapsed": true
   },
   "outputs": [],
   "source": []
  }
 ],
 "metadata": {
  "kernelspec": {
   "display_name": "Python [Root]",
   "language": "python",
   "name": "Python [Root]"
  },
  "language_info": {
   "codemirror_mode": {
    "name": "ipython",
    "version": 2
   },
   "file_extension": ".py",
   "mimetype": "text/x-python",
   "name": "python",
   "nbconvert_exporter": "python",
   "pygments_lexer": "ipython2",
   "version": "2.7.12"
  }
 },
 "nbformat": 4,
 "nbformat_minor": 0
}
